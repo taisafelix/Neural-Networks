{
 "cells": [
  {
   "cell_type": "markdown",
   "metadata": {},
   "source": [
    "Use a database from your choice and train an MLP Classifier on it.  Change values of alpha (regularization term) as well as the Change values of alpha (regularization term) as well as the number of hidden layers and number of units per layers\n",
    "\n",
    "Database (Iris) avaliable at: https://archive.ics.uci.edu/ml/datasets/iris"
   ]
  },
  {
   "cell_type": "code",
   "execution_count": 1,
   "metadata": {},
   "outputs": [],
   "source": [
    "import sklearn\n",
    "import numpy as np\n",
    "import pandas as pd\n",
    "import matplotlib.pyplot as plt\n",
    "from sklearn.neural_network import MLPClassifier\n",
    "from sklearn.model_selection import train_test_split\n",
    "from sklearn.metrics import accuracy_score\n",
    "from sklearn.metrics import classification_report, confusion_matrix\n"
   ]
  },
  {
   "cell_type": "markdown",
   "metadata": {},
   "source": [
    "The chosen database was Iris. The data set consists of samples from each of three species of Iris (Iris setosa, Iris virginica and Iris versicolor). Four features were measured from each sample: the length and the width of the sepals and petals. "
   ]
  },
  {
   "cell_type": "code",
   "execution_count": 2,
   "metadata": {},
   "outputs": [
    {
     "data": {
      "text/html": [
       "<div>\n",
       "<style scoped>\n",
       "    .dataframe tbody tr th:only-of-type {\n",
       "        vertical-align: middle;\n",
       "    }\n",
       "\n",
       "    .dataframe tbody tr th {\n",
       "        vertical-align: top;\n",
       "    }\n",
       "\n",
       "    .dataframe thead th {\n",
       "        text-align: right;\n",
       "    }\n",
       "</style>\n",
       "<table border=\"1\" class=\"dataframe\">\n",
       "  <thead>\n",
       "    <tr style=\"text-align: right;\">\n",
       "      <th></th>\n",
       "      <th>sep_len</th>\n",
       "      <th>sep_width</th>\n",
       "      <th>pet_len</th>\n",
       "      <th>pet_width</th>\n",
       "      <th>class</th>\n",
       "    </tr>\n",
       "  </thead>\n",
       "  <tbody>\n",
       "    <tr>\n",
       "      <th>0</th>\n",
       "      <td>5.1</td>\n",
       "      <td>3.5</td>\n",
       "      <td>1.4</td>\n",
       "      <td>0.2</td>\n",
       "      <td>Iris-setosa</td>\n",
       "    </tr>\n",
       "    <tr>\n",
       "      <th>1</th>\n",
       "      <td>4.9</td>\n",
       "      <td>3.0</td>\n",
       "      <td>1.4</td>\n",
       "      <td>0.2</td>\n",
       "      <td>Iris-setosa</td>\n",
       "    </tr>\n",
       "    <tr>\n",
       "      <th>2</th>\n",
       "      <td>4.7</td>\n",
       "      <td>3.2</td>\n",
       "      <td>1.3</td>\n",
       "      <td>0.2</td>\n",
       "      <td>Iris-setosa</td>\n",
       "    </tr>\n",
       "    <tr>\n",
       "      <th>3</th>\n",
       "      <td>4.6</td>\n",
       "      <td>3.1</td>\n",
       "      <td>1.5</td>\n",
       "      <td>0.2</td>\n",
       "      <td>Iris-setosa</td>\n",
       "    </tr>\n",
       "    <tr>\n",
       "      <th>4</th>\n",
       "      <td>5.0</td>\n",
       "      <td>3.6</td>\n",
       "      <td>1.4</td>\n",
       "      <td>0.2</td>\n",
       "      <td>Iris-setosa</td>\n",
       "    </tr>\n",
       "  </tbody>\n",
       "</table>\n",
       "</div>"
      ],
      "text/plain": [
       "   sep_len  sep_width  pet_len  pet_width        class\n",
       "0      5.1        3.5      1.4        0.2  Iris-setosa\n",
       "1      4.9        3.0      1.4        0.2  Iris-setosa\n",
       "2      4.7        3.2      1.3        0.2  Iris-setosa\n",
       "3      4.6        3.1      1.5        0.2  Iris-setosa\n",
       "4      5.0        3.6      1.4        0.2  Iris-setosa"
      ]
     },
     "execution_count": 2,
     "metadata": {},
     "output_type": "execute_result"
    }
   ],
   "source": [
    "df = pd.read_csv('iris_data.txt', sep = \",\", header=None, names=[\"sep_len\", \"sep_width\", \"pet_len\",\"pet_width\",\"class\"])\n",
    "df.head()"
   ]
  },
  {
   "cell_type": "code",
   "execution_count": 3,
   "metadata": {},
   "outputs": [],
   "source": [
    "Y = df['class']\n",
    "X = df.drop(['class'], axis=1)"
   ]
  },
  {
   "cell_type": "code",
   "execution_count": 4,
   "metadata": {},
   "outputs": [],
   "source": [
    "X_train, X_test, y_train, y_test = train_test_split(X, Y, test_size= 0.25)"
   ]
  },
  {
   "cell_type": "code",
   "execution_count": 5,
   "metadata": {},
   "outputs": [
    {
     "name": "stdout",
     "output_type": "stream",
     "text": [
      "Accuracy (training set): 0.982\n",
      "Accuracy (test set): 0.974\n"
     ]
    }
   ],
   "source": [
    "#Checking the accuracy for alpha = 1\n",
    "mlp = MLPClassifier(solver='lbfgs', alpha=1,\n",
    "                    hidden_layer_sizes=(5, 2), \n",
    "                    random_state=1)\n",
    "\n",
    "mlp.fit(X_train, y_train)\n",
    "\n",
    "print(\"Accuracy (training set): {:.3f}\".format(mlp.score(X_train, y_train)))\n",
    "print(\"Accuracy (test set): {:.3f}\".format(mlp.score(X_test, y_test)))"
   ]
  },
  {
   "cell_type": "code",
   "execution_count": 6,
   "metadata": {},
   "outputs": [
    {
     "name": "stdout",
     "output_type": "stream",
     "text": [
      "                 precision    recall  f1-score   support\n",
      "\n",
      "    Iris-setosa       1.00      1.00      1.00        10\n",
      "Iris-versicolor       0.93      1.00      0.97        14\n",
      " Iris-virginica       1.00      0.93      0.96        14\n",
      "\n",
      "      micro avg       0.97      0.97      0.97        38\n",
      "      macro avg       0.98      0.98      0.98        38\n",
      "   weighted avg       0.98      0.97      0.97        38\n",
      "\n"
     ]
    }
   ],
   "source": [
    "predictions = mlp.predict(X_test)\n",
    "print(classification_report(y_test,predictions))"
   ]
  },
  {
   "cell_type": "code",
   "execution_count": 7,
   "metadata": {},
   "outputs": [
    {
     "name": "stdout",
     "output_type": "stream",
     "text": [
      "Accuracy (training set): 0.357\n",
      "Accuracy (test set): 0.263\n"
     ]
    }
   ],
   "source": [
    "#Checking the accuracy for alpha = 15\n",
    "\n",
    "mlp = MLPClassifier(solver='lbfgs', alpha=15,\n",
    "                    hidden_layer_sizes=(5, 2), \n",
    "                    random_state=1)\n",
    "\n",
    "mlp.fit(X_train, y_train)\n",
    "\n",
    "print(\"Accuracy (training set): {:.3f}\".format(mlp.score(X_train, y_train)))\n",
    "print(\"Accuracy (test set): {:.3f}\".format(mlp.score(X_test, y_test)))"
   ]
  },
  {
   "cell_type": "code",
   "execution_count": 8,
   "metadata": {},
   "outputs": [
    {
     "name": "stdout",
     "output_type": "stream",
     "text": [
      "Accuracy (training set): 0.357\n",
      "Accuracy (test set): 0.263\n"
     ]
    }
   ],
   "source": [
    "#Comparing the previous result with a Classifier with only 2 features (\"pet_len\", \"pet_width\")\n",
    "Xs = df.drop(['pet_len','pet_width','class'], axis=1)\n",
    "Xs_train, Xs_test, ys_train, ys_test = train_test_split(Xs, Y, test_size= 0.25)\n",
    "\n",
    "\n",
    "mpl = MLPClassifier(solver='lbfgs', alpha=1,\n",
    "                    hidden_layer_sizes=(5, 2), \n",
    "                    random_state=1)\n",
    "\n",
    "\n",
    "mlp.fit(Xs_train, ys_train)\n",
    "print(\"Accuracy (training set): {:.3f}\".format(mlp.score(Xs_train, ys_train)))\n",
    "print(\"Accuracy (test set): {:.3f}\".format(mlp.score(Xs_test, ys_test)))"
   ]
  },
  {
   "cell_type": "markdown",
   "metadata": {},
   "source": [
    "From the results above we conclude that the features pet_len and pet_width aren't good to predict by itself the the correct class"
   ]
  },
  {
   "cell_type": "code",
   "execution_count": 9,
   "metadata": {},
   "outputs": [
    {
     "name": "stdout",
     "output_type": "stream",
     "text": [
      "Accuracy (training set): 0.955\n",
      "Accuracy (test set): 0.974\n"
     ]
    }
   ],
   "source": [
    "#Comparing the previous result with a Classifier with only 2 features (\"set_len\", \"set_width\")\n",
    "Xp = df.drop(['sep_len','sep_width','class'], axis=1)\n",
    "Xp_train, Xp_test, yp_train, yp_test = train_test_split(Xp, Y, test_size= 0.25)\n",
    "\n",
    "mlp = MLPClassifier(solver='lbfgs', alpha=1,\n",
    "                    hidden_layer_sizes=(5, 2), \n",
    "                    random_state=1)\n",
    "\n",
    "mlp.fit(Xp_train, yp_train)\n",
    "print(\"Accuracy (training set): {:.3f}\".format(mlp.score(Xp_train, yp_train)))\n",
    "print(\"Accuracy (test set): {:.3f}\".format(mlp.score(Xp_test, yp_test)))"
   ]
  },
  {
   "cell_type": "markdown",
   "metadata": {},
   "source": [
    "From the results above we conclude that the features pet_len and pet_width can predict by itself the the correct class with a very good accuracy"
   ]
  },
  {
   "cell_type": "markdown",
   "metadata": {},
   "source": [
    "Varying the number of layers:"
   ]
  },
  {
   "cell_type": "code",
   "execution_count": 10,
   "metadata": {},
   "outputs": [
    {
     "data": {
      "image/png": "[encoded data removed]",
      "text/plain": [
       "<Figure size 432x288 with 1 Axes>"
      ]
     },
     "metadata": {
      "needs_background": "light"
     },
     "output_type": "display_data"
    }
   ],
   "source": [
    "scores = []\n",
    "\n",
    "# layers\n",
    "numbers = range(1,30)\n",
    "\n",
    "# loop through the different numbers of layers\n",
    "for num in numbers:\n",
    "    mlp = MLPClassifier(solver='lbfgs', random_state=1, alpha=1, max_iter = 100, hidden_layer_sizes=tuple([5] * num))\n",
    "    mlp.fit(X_train,y_train)\n",
    "    scores.append(mlp.score(X_test,y_test))\n",
    "\n",
    "# plot\n",
    "line = plt.figure()\n",
    "plt.plot(numbers, scores, \"o\")\n",
    "plt.xlabel(\"number of hidden layers (5*num)\")\n",
    "plt.ylabel(\"neural network accuracy\")\n",
    "plt.grid(True)\n",
    "plt.show()"
   ]
  },
  {
   "cell_type": "code",
   "execution_count": 11,
   "metadata": {},
   "outputs": [
    {
     "data": {
      "image/png": "[encoded data removed]",
      "text/plain": [
       "<Figure size 432x288 with 1 Axes>"
      ]
     },
     "metadata": {
      "needs_background": "light"
     },
     "output_type": "display_data"
    }
   ],
   "source": [
    "classifiers = []\n",
    "\n",
    "# create range of alpha values to test\n",
    "for a in [10e-5,10e-4,10e-3,10e-2,10e-1,10,10e1,10e2]:\n",
    "    mpl = MLPClassifier(solver='lbfgs', alpha=a,\n",
    "                    hidden_layer_sizes=(5, 2), \n",
    "                    random_state=1)\n",
    "    classifiers.append(mpl)\n",
    "\n",
    "scores = {}\n",
    "for clf in classifiers:\n",
    "    # fit the network\n",
    "    clf.fit(X_train, y_train)\n",
    "    scores[clf.alpha] = (clf.score(X_test, y_test))\n",
    "\n",
    "# plot\n",
    "line = plt.figure()\n",
    "plt.plot(list(scores.keys()), list(scores.values()), \"o\")\n",
    "plt.semilogx()\n",
    "plt.xlabel(\"alpha parameter for regularization\")\n",
    "plt.ylabel(\"neural network accuracy\")\n",
    "plt.grid(True)\n",
    "plt.show()"
   ]
  },
  {
   "cell_type": "code",
   "execution_count": 12,
   "metadata": {},
   "outputs": [
    {
     "data": {
      "image/png": "[encoded data removed]",
      "text/plain": [
       "<Figure size 360x360 with 1 Axes>"
      ]
     },
     "metadata": {
      "needs_background": "light"
     },
     "output_type": "display_data"
    }
   ],
   "source": [
    "#Source: https://anaconda.org/anaconda-enterprise/neural-networks/notebook\n",
    "\n",
    "from sklearn.preprocessing import MinMaxScaler\n",
    "from sklearn import datasets\n",
    "\n",
    "# different learning rate schedules and momentum parameters\n",
    "params = [{'solver': 'sgd', 'learning_rate': 'constant', 'momentum': 0,\n",
    "           'learning_rate_init': 0.2},\n",
    "          {'solver': 'sgd', 'learning_rate': 'constant', 'momentum': .9,\n",
    "           'nesterovs_momentum': False, 'learning_rate_init': 0.2},\n",
    "          {'solver': 'sgd', 'learning_rate': 'constant', 'momentum': .9,\n",
    "           'nesterovs_momentum': True, 'learning_rate_init': 0.2},\n",
    "          {'solver': 'sgd', 'learning_rate': 'invscaling', 'momentum': 0,\n",
    "           'learning_rate_init': 0.2},\n",
    "          {'solver': 'sgd', 'learning_rate': 'invscaling', 'momentum': .9,\n",
    "           'nesterovs_momentum': True, 'learning_rate_init': 0.2},\n",
    "          {'solver': 'sgd', 'learning_rate': 'invscaling', 'momentum': .9,\n",
    "           'nesterovs_momentum': False, 'learning_rate_init': 0.2},\n",
    "          {'solver': 'adam', 'learning_rate_init': 0.01}]\n",
    "\n",
    "# labels for each collection of parameters\n",
    "labels = [\"constant learning-rate\", \"constant with momentum\",\n",
    "          \"constant with Nesterov's momentum\",\n",
    "          \"inv-scaling learning-rate\", \"inv-scaling with momentum\",\n",
    "          \"inv-scaling with Nesterov's momentum\", \"adam\"]\n",
    "\n",
    "# plotting arguments\n",
    "plot_args = [{'c': 'red', 'linestyle': '-'},\n",
    "             {'c': 'green', 'linestyle': '-'},\n",
    "             {'c': 'blue', 'linestyle': '-'},\n",
    "             {'c': 'red', 'linestyle': '--'},\n",
    "             {'c': 'green', 'linestyle': '--'},\n",
    "             {'c': 'blue', 'linestyle': '--'},\n",
    "             {'c': 'black', 'linestyle': '-'}]\n",
    "\n",
    "# plot the results\n",
    "fig, axes = plt.subplots(1,1, figsize=(5, 5))\n",
    "mlps = []\n",
    "X = MinMaxScaler().fit_transform(X_train)\n",
    "\n",
    "# loop through each set of parameters\n",
    "for label, param, args in zip(labels, params, plot_args):\n",
    "    mlp = MLPClassifier(verbose=0, random_state=0, max_iter = 1000, **param)\n",
    "    mlp.fit(X_train, y_train)\n",
    "    mlps.append(mlp)\n",
    "    axes.plot(mlp.loss_curve_, **args)\n",
    "\n",
    "# show the plot\n",
    "fig.legend(labels=labels, ncol=3, loc=\"upper center\")\n",
    "plt.grid(True)\n",
    "plt.show()"
   ]
  },
  {
   "cell_type": "code",
   "execution_count": null,
   "metadata": {},
   "outputs": [],
   "source": []
  },
  {
   "cell_type": "code",
   "execution_count": null,
   "metadata": {},
   "outputs": [],
   "source": []
  },
  {
   "cell_type": "code",
   "execution_count": null,
   "metadata": {},
   "outputs": [],
   "source": []
  },
  {
   "cell_type": "code",
   "execution_count": null,
   "metadata": {},
   "outputs": [],
   "source": []
  }
 ],
 "metadata": {
  "kernelspec": {
   "display_name": "Python 3",
   "language": "python",
   "name": "python3"
  },
  "language_info": {
   "codemirror_mode": {
    "name": "ipython",
    "version": 3
   },
   "file_extension": ".py",
   "mimetype": "text/x-python",
   "name": "python",
   "nbconvert_exporter": "python",
   "pygments_lexer": "ipython3",
   "version": "3.7.2"
  }
 },
 "nbformat": 4,
 "nbformat_minor": 2
}
